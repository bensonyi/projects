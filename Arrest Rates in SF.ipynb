{
 "cells": [
  {
   "cell_type": "code",
   "execution_count": 19,
   "metadata": {},
   "outputs": [],
   "source": [
    "from datascience import *\n",
    "import math\n",
    "%matplotlib inline\n",
    "import matplotlib.pyplot as plots\n",
    "plots.style.use('fivethirtyeight')\n",
    "import numpy as np\n",
    "\n",
    "# Question: Are certain types of crime less likely to end in arrest in SF compared to the US?\n",
    "\n",
    "# Code below does the following:\n",
    "# 1. Groups together the over thirty categories of crime in the original table under broad categories for ease of analysis.\n",
    "# 2. Hypothesis testing:\n",
    "#   a) Null: Arrest rates for given category of crime in SF match arrest rates nationwide for that given category - stated\n",
    "#            another way, a criminal is as likely to be arrested in SF as in the US for a given crime.\n",
    "#      Alternative: The chance of a criminal being arrested in SF is lower than nationwide.    \n",
    "#   b) Simulate probability distribution of test statistic (proportion of given crime which ends in arrests) under null.\n",
    "#   c) Because the crimes table we work with is just a random sample of the total population of crime reports, we bootstrap\n",
    "#      from the random sample and construct a 95% confidence interval which captures the true proportion of arrests for a given \n",
    "#      crime in the total population. This is done because we have to consider that the population parameter could be\n",
    "#      anywhere from the low end of the confidence interval to the high end (with 95% confidence). In order to definitively \n",
    "#      prove criminals have a lower chance of being arrested in SF, we should consider the true proportion of being at the \n",
    "#      high end of the confidence interval, the scenario most favorable to the null hypothesis, so that we know if that value\n",
    "#      fails the p-cutoff, we can categorically reject the null for lower values within that confidence interval too. \n",
    "#   d) Use P-value testing to see how likely it is that the right endpoint of the confidence interval and values below occur \n",
    "#      under the null, with a P-value cutoff of 5. \n",
    "#   e) Observe types of crime for which we reject the null. We can then say with 95% confidence that those types of crime \n",
    "#      see lower arrest rates in SF for reasons other than random variation of nationwide rates. \n",
    "\n",
    "# Note: for ease of analysis, we isolate our question to categories of crime for which national arrest rates are readily\n",
    "# available, and we'll be using 2016 arrest data from statista.com, which is closely comparable to 2013 arrest data \n",
    "# provided by the FBI. Both sources are as follows:\n",
    "# https://www.statista.com/statistics/194213/crime-clearance-rate-by-type-in-the-us/\n",
    "# https://ucr.fbi.gov/crime-in-the-u.s/2013/crime-in-the-u.s.-2013/offenses-known-to-law-enforcement/clearances/clearancetopic_final\n",
    "\n",
    "# Random sample with which we'll be working, since the original is too large to easily process with over a million reports.  \n",
    "clean = Table.read_table('SF_Crime_Heat_Map.csv').sample(10000)"
   ]
  },
  {
   "cell_type": "code",
   "execution_count": 2,
   "metadata": {},
   "outputs": [],
   "source": [
    "# Function relabels the reported category of crime incidents as a new category \n",
    "def repurpose(old_category, new_category, clean):\n",
    "    new_table = clean.where('Category', old_category).drop('Category').with_column('Category', new_category)\n",
    "    clean = clean.where('Category', are.not_equal_to(old_category)).append(new_table)\n",
    "    return clean"
   ]
  },
  {
   "cell_type": "code",
   "execution_count": 3,
   "metadata": {},
   "outputs": [],
   "source": [
    "# Drops categories which were infractions, not strictly criminal, or difficult to categorize/unimportant to question (e.g. stolen property could either be a felony or misdemeanor)\n",
    "clean = clean.where('Category', are.not_equal_to('MISSING PERSON')).where('Category', are.not_equal_to('SECONDARY CODES')).where('Category', are.not_equal_to('RUNAWAY')).where('Category', are.not_equal_to('NON-CRIMINAL')).where('Category', are.not_equal_to('OTHER OFFENSES')).where('Category', are.not_equal_to('WARRANTS')).where('Category', are.not_equal_to('SUICIDE')).where('Category', are.not_equal_to('STOLEN PROPERTY')).where('Category', are.not_equal_to('SUSPICIOUS OCC')).where('Category', are.not_equal_to('RECOVERED VEHICLE')).where('Category', are.not_equal_to('LOITERING')).where('Category', are.not_equal_to('KIDNAPPING'))"
   ]
  },
  {
   "cell_type": "code",
   "execution_count": 4,
   "metadata": {},
   "outputs": [],
   "source": [
    "# Groups nonviolent misdemeanors under common label 'Nonviolent Misdemeanors' #\n",
    "nv_misd = make_array('DRUNKENNESS', 'PROSTITUTION', 'DRUG/NARCOTIC', 'SEX OFFENSES, NON FORCIBLE', 'TRESPASS', 'VANDALISM')\n",
    "nv_misd = np.append(nv_misd, make_array('LIQUOR LAWS', 'DISORDERLY CONDUCT', 'GAMBLING', 'BAD CHECKS', 'PORNOGRAPHY/OBSCENE MAT', 'TREA'))\n",
    "for i in nv_misd:\n",
    "    if i in clean.column('Category'):\n",
    "        clean = repurpose(i, 'NONVIOLENT MISDEMEANORS', clean)"
   ]
  },
  {
   "cell_type": "code",
   "execution_count": 5,
   "metadata": {},
   "outputs": [],
   "source": [
    "# Groups aggravated misdemeanors under common label 'Aggravated Misdemeanors' #\n",
    "# We exclude larceny/theft, vehicle theft, and burglary, as we lack nationwide arrest data on those crimes specifically. \n",
    "agg_misd = make_array('FAMILY OFFENSES', 'DRIVING UNDER THE INFLUENCE', 'WEAPON LAWS')\n",
    "for i in agg_misd:\n",
    "    if i in clean.column('Category'):\n",
    "        clean = repurpose(i, 'AGGRAVATED MISDEMEANORS', clean)"
   ]
  },
  {
   "cell_type": "code",
   "execution_count": 6,
   "metadata": {},
   "outputs": [],
   "source": [
    "# Groups nonviolent felonies under common label 'Nonviolent Felonies' #\n",
    "nv_felon = make_array('EXTORTION', 'BRIBERY', 'FORGERY/COUNTERFEITING', 'FRAUD', 'EMBEZZLEMENT')\n",
    "for i in nv_felon:\n",
    "    if i in clean.column('Category'):\n",
    "        clean = repurpose(i, 'NONVIOLENT FELONIES', clean)"
   ]
  },
  {
   "cell_type": "code",
   "execution_count": 7,
   "metadata": {},
   "outputs": [
    {
     "data": {
      "text/html": [
       "<table border=\"1\" class=\"dataframe\">\n",
       "    <thead>\n",
       "        <tr>\n",
       "            <th>Category</th> <th>Resolution</th>\n",
       "        </tr>\n",
       "    </thead>\n",
       "    <tbody>\n",
       "        <tr>\n",
       "            <td>LARCENY/THEFT         </td> <td>NONE          </td>\n",
       "        </tr>\n",
       "    </tbody>\n",
       "        <tr>\n",
       "            <td>LARCENY/THEFT         </td> <td>NONE          </td>\n",
       "        </tr>\n",
       "    </tbody>\n",
       "        <tr>\n",
       "            <td>LARCENY/THEFT         </td> <td>NONE          </td>\n",
       "        </tr>\n",
       "    </tbody>\n",
       "        <tr>\n",
       "            <td>LARCENY/THEFT         </td> <td>ARREST, BOOKED</td>\n",
       "        </tr>\n",
       "    </tbody>\n",
       "        <tr>\n",
       "            <td>ASSAULT               </td> <td>ARREST, BOOKED</td>\n",
       "        </tr>\n",
       "    </tbody>\n",
       "        <tr>\n",
       "            <td>ASSAULT               </td> <td>ARREST, CITED </td>\n",
       "        </tr>\n",
       "    </tbody>\n",
       "        <tr>\n",
       "            <td>ASSAULT               </td> <td>ARREST, BOOKED</td>\n",
       "        </tr>\n",
       "    </tbody>\n",
       "        <tr>\n",
       "            <td>LARCENY/THEFT         </td> <td>NONE          </td>\n",
       "        </tr>\n",
       "    </tbody>\n",
       "        <tr>\n",
       "            <td>LARCENY/THEFT         </td> <td>NONE          </td>\n",
       "        </tr>\n",
       "    </tbody>\n",
       "        <tr>\n",
       "            <td>SEX OFFENSES, FORCIBLE</td> <td>NONE          </td>\n",
       "        </tr>\n",
       "    </tbody>\n",
       "</table>\n",
       "<p>... (6072 rows omitted)</p>"
      ],
      "text/plain": [
       "<IPython.core.display.HTML object>"
      ]
     },
     "metadata": {},
     "output_type": "display_data"
    }
   ],
   "source": [
    "# Sample of what table currently looks like\n",
    "clean.show(10)"
   ]
  },
  {
   "cell_type": "code",
   "execution_count": 8,
   "metadata": {},
   "outputs": [
    {
     "data": {
      "text/html": [
       "<table border=\"1\" class=\"dataframe\">\n",
       "    <thead>\n",
       "        <tr>\n",
       "            <th>Category</th> <th>count</th>\n",
       "        </tr>\n",
       "    </thead>\n",
       "    <tbody>\n",
       "        <tr>\n",
       "            <td>LARCENY/THEFT          </td> <td>2006 </td>\n",
       "        </tr>\n",
       "    </tbody>\n",
       "        <tr>\n",
       "            <td>NONVIOLENT MISDEMEANORS</td> <td>1375 </td>\n",
       "        </tr>\n",
       "    </tbody>\n",
       "        <tr>\n",
       "            <td>ASSAULT                </td> <td>916  </td>\n",
       "        </tr>\n",
       "    </tbody>\n",
       "        <tr>\n",
       "            <td>VEHICLE THEFT          </td> <td>589  </td>\n",
       "        </tr>\n",
       "    </tbody>\n",
       "        <tr>\n",
       "            <td>BURGLARY               </td> <td>414  </td>\n",
       "        </tr>\n",
       "    </tbody>\n",
       "        <tr>\n",
       "            <td>NONVIOLENT FELONIES    </td> <td>323  </td>\n",
       "        </tr>\n",
       "    </tbody>\n",
       "        <tr>\n",
       "            <td>ROBBERY                </td> <td>274  </td>\n",
       "        </tr>\n",
       "    </tbody>\n",
       "        <tr>\n",
       "            <td>AGGRAVATED MISDEMEANORS</td> <td>122  </td>\n",
       "        </tr>\n",
       "    </tbody>\n",
       "        <tr>\n",
       "            <td>SEX OFFENSES, FORCIBLE </td> <td>47   </td>\n",
       "        </tr>\n",
       "    </tbody>\n",
       "        <tr>\n",
       "            <td>ARSON                  </td> <td>16   </td>\n",
       "        </tr>\n",
       "    </tbody>\n",
       "</table>"
      ],
      "text/plain": [
       "<IPython.core.display.HTML object>"
      ]
     },
     "metadata": {},
     "output_type": "display_data"
    }
   ],
   "source": [
    "# This table gives a snapshot of the composition of crime in SF. Per our note in the first cell, we won't be including categories\n",
    "# for which nationwide arrest data isn't available, so crimes in nonviolent misdemeanors/felonies and aggravated misdemeanors\n",
    "# will not be included in our analysis.\n",
    "clean.group('Category').sort('count', descending=True).show()"
   ]
  },
  {
   "cell_type": "code",
   "execution_count": 9,
   "metadata": {},
   "outputs": [],
   "source": [
    "# Dropping nonviolent misdemeanors/felonies, aggrvatated misdemeanors as mentioned above\n",
    "clean = clean.where('Category', are.not_equal_to('NONVIOLENT MISDEMEANORS')).where('Category', are.not_equal_to('NONVIOLENT FELONIES')).where('Category', are.not_equal_to('AGGRAVATED MISDEMEANORS'))"
   ]
  },
  {
   "cell_type": "code",
   "execution_count": 10,
   "metadata": {},
   "outputs": [
    {
     "data": {
      "text/html": [
       "<table border=\"1\" class=\"dataframe\">\n",
       "    <thead>\n",
       "        <tr>\n",
       "            <th>Resolution</th> <th>count</th>\n",
       "        </tr>\n",
       "    </thead>\n",
       "    <tbody>\n",
       "        <tr>\n",
       "            <td>NONE                                  </td> <td>3426 </td>\n",
       "        </tr>\n",
       "    </tbody>\n",
       "        <tr>\n",
       "            <td>ARREST, BOOKED                        </td> <td>561  </td>\n",
       "        </tr>\n",
       "    </tbody>\n",
       "        <tr>\n",
       "            <td>ARREST, CITED                         </td> <td>119  </td>\n",
       "        </tr>\n",
       "    </tbody>\n",
       "        <tr>\n",
       "            <td>UNFOUNDED                             </td> <td>48   </td>\n",
       "        </tr>\n",
       "    </tbody>\n",
       "        <tr>\n",
       "            <td>DISTRICT ATTORNEY REFUSES TO PROSECUTE</td> <td>29   </td>\n",
       "        </tr>\n",
       "    </tbody>\n",
       "        <tr>\n",
       "            <td>JUVENILE CITED                        </td> <td>16   </td>\n",
       "        </tr>\n",
       "    </tbody>\n",
       "        <tr>\n",
       "            <td>JUVENILE BOOKED                       </td> <td>16   </td>\n",
       "        </tr>\n",
       "    </tbody>\n",
       "        <tr>\n",
       "            <td>NOT PROSECUTED                        </td> <td>14   </td>\n",
       "        </tr>\n",
       "    </tbody>\n",
       "        <tr>\n",
       "            <td>COMPLAINANT REFUSES TO PROSECUTE      </td> <td>14   </td>\n",
       "        </tr>\n",
       "    </tbody>\n",
       "        <tr>\n",
       "            <td>JUVENILE ADMONISHED                   </td> <td>9    </td>\n",
       "        </tr>\n",
       "    </tbody>\n",
       "</table>\n",
       "<p>... (4 rows omitted)</p>"
      ],
      "text/plain": [
       "Resolution                             | count\n",
       "NONE                                   | 3426\n",
       "ARREST, BOOKED                         | 561\n",
       "ARREST, CITED                          | 119\n",
       "UNFOUNDED                              | 48\n",
       "DISTRICT ATTORNEY REFUSES TO PROSECUTE | 29\n",
       "JUVENILE CITED                         | 16\n",
       "JUVENILE BOOKED                        | 16\n",
       "NOT PROSECUTED                         | 14\n",
       "COMPLAINANT REFUSES TO PROSECUTE       | 14\n",
       "JUVENILE ADMONISHED                    | 9\n",
       "... (4 rows omitted)"
      ]
     },
     "execution_count": 10,
     "metadata": {},
     "output_type": "execute_result"
    }
   ],
   "source": [
    "# Current types of resolution to the crime\n",
    "clean.group('Resolution').sort('count', descending=True)"
   ]
  },
  {
   "cell_type": "code",
   "execution_count": 11,
   "metadata": {},
   "outputs": [],
   "source": [
    "# For ease of data analysis, will organize resolutions into 'None' and 'Arrest', with cases where \n",
    "# accused is arrested or cited (handed to criminal in lieu of jail, with promise to appear in court for arraignment or fine)\n",
    "# funneled into 'Arrest'. All other types of resolutions will be dropped. \n",
    "\n",
    "def repurpose_resolution(old_category, new_category, clean):\n",
    "    new_table = clean.where('Resolution', old_category).drop('Resolution').with_column('Resolution', new_category)\n",
    "    clean = clean.where('Resolution', are.not_equal_to(old_category)).append(new_table)\n",
    "    return clean\n",
    "\n",
    "arrest = make_array('ARREST, BOOKED', 'ARREST, CITED', 'JUVENILE BOOKED', 'JUVENILE CITED', 'PROSECUTED BY OUTSIDE AGENCY')\n",
    "arrest = np.append(arrest, make_array('JUVENILE ADMONISHED', 'PROSECUTED FOR LESSER OFFENSE', 'JUVENILE DIVERTED'))\n",
    "for i in arrest:\n",
    "    if i in clean.column('Resolution'):\n",
    "        clean = repurpose_resolution(i, 'ARREST', clean)"
   ]
  },
  {
   "cell_type": "code",
   "execution_count": 12,
   "metadata": {},
   "outputs": [],
   "source": [
    "# Dropping other resolutions, per above\n",
    "clean = clean.where('Resolution', are.not_equal_to('UNFOUNDED')).where('Resolution', are.not_equal_to('NOT PROSECUTED')).where('Resolution', are.not_equal_to('DISTRICT ATTORNEY REFUSES TO PROSECUTE')).where('Resolution', are.not_equal_to('COMPLAINANT REFUSES TO PROSECUTE')).where('Resolution', are.not_equal_to('EXCEPTIONAL CLEARANCE')).where('Resolution', are.not_equal_to('PSYCHOPATHIC CASE')).where('Resolution', are.not_equal_to('CLEARED-CONTACT JUVENILE FOR MORE INFO'))"
   ]
  },
  {
   "cell_type": "code",
   "execution_count": 13,
   "metadata": {},
   "outputs": [
    {
     "data": {
      "text/html": [
       "<table border=\"1\" class=\"dataframe\">\n",
       "    <thead>\n",
       "        <tr>\n",
       "            <th>Category</th> <th>count</th>\n",
       "        </tr>\n",
       "    </thead>\n",
       "    <tbody>\n",
       "        <tr>\n",
       "            <td>LARCENY/THEFT         </td> <td>1976 </td>\n",
       "        </tr>\n",
       "    </tbody>\n",
       "        <tr>\n",
       "            <td>ASSAULT               </td> <td>881  </td>\n",
       "        </tr>\n",
       "    </tbody>\n",
       "        <tr>\n",
       "            <td>VEHICLE THEFT         </td> <td>564  </td>\n",
       "        </tr>\n",
       "    </tbody>\n",
       "        <tr>\n",
       "            <td>BURGLARY              </td> <td>411  </td>\n",
       "        </tr>\n",
       "    </tbody>\n",
       "        <tr>\n",
       "            <td>ROBBERY               </td> <td>267  </td>\n",
       "        </tr>\n",
       "    </tbody>\n",
       "        <tr>\n",
       "            <td>SEX OFFENSES, FORCIBLE</td> <td>35   </td>\n",
       "        </tr>\n",
       "    </tbody>\n",
       "        <tr>\n",
       "            <td>ARSON                 </td> <td>15   </td>\n",
       "        </tr>\n",
       "    </tbody>\n",
       "</table>"
      ],
      "text/plain": [
       "Category               | count\n",
       "LARCENY/THEFT          | 1976\n",
       "ASSAULT                | 881\n",
       "VEHICLE THEFT          | 564\n",
       "BURGLARY               | 411\n",
       "ROBBERY                | 267\n",
       "SEX OFFENSES, FORCIBLE | 35\n",
       "ARSON                  | 15"
      ]
     },
     "execution_count": 13,
     "metadata": {},
     "output_type": "execute_result"
    }
   ],
   "source": [
    "# Cleaning complete. Hypothesis testing next.\n",
    "clean.group('Category').sort('count', descending=True)"
   ]
  },
  {
   "cell_type": "code",
   "execution_count": 14,
   "metadata": {},
   "outputs": [],
   "source": [
    "# We take the example of assault and walk it through the process. Nationwide, assault crimes result in arrests 53.3% of the\n",
    "# time, and so we simulate under the null the proportion of assaults that end in arrests. Then we construct a confidence \n",
    "# interval to capture the true proportion of assault crimes that end in arrest, and see how likely it is that the upper end \n",
    "# of the confidence interval and values below occur under the null hypothesis.\n",
    "# Our test statistic is the proportion of a given category of crime that ends in arrest.\n",
    "\n",
    "def under_null(nationwide_proportion, crime_category):\n",
    "    crime_count = clean.group('Category').where('Category', crime_category).column('count')\n",
    "    model_proportions = [float(nationwide_proportion), 1 - float(nationwide_proportion)]\n",
    "    collection = make_array()\n",
    "    for i in range(10000):\n",
    "        collection = np.append(collection, sample_proportions(crime_count, model_proportions).item(0))\n",
    "    return Table().with_column('Proportions', collection)"
   ]
  },
  {
   "cell_type": "code",
   "execution_count": 15,
   "metadata": {},
   "outputs": [],
   "source": [
    "# Bootstrap process for capturing with 95% confidence what proportion of assaults end in arrest in the original population. \n",
    "def bootstrap_prop(label):\n",
    "    proportions = make_array()\n",
    "    for i in range(1000):\n",
    "        bootstrap_proportion = clean.sample().where('Category', label).where('Resolution', 'ARREST').num_rows/clean.sample().where('Category', label).num_rows\n",
    "        proportions = np.append(proportions, bootstrap_proportion)\n",
    "    return make_array(percentile(2.5, proportions), percentile(97.5, proportions))"
   ]
  },
  {
   "cell_type": "code",
   "execution_count": null,
   "metadata": {},
   "outputs": [],
   "source": [
    "# This tells us the likelihood that the right end of the confidence interval and values below occur due to random chance\n",
    "# under the null hypothesis, for assault crimes. An answer of 0 means there is a 0% possibility that the values within the \n",
    "# confidence interval occur due to random variation under the null.\n",
    "np.count_nonzero(under_null(0.533, 'ASSAULT').column(0) <= bootstrap_prop('ASSAULT').item(1)) / 10000"
   ]
  },
  {
   "cell_type": "code",
   "execution_count": 17,
   "metadata": {},
   "outputs": [
    {
     "data": {
      "text/plain": [
       "array([ 0.9998,  0.    ,  0.3802,  0.    ,  0.    ,  1.    ,  0.9784])"
      ]
     },
     "execution_count": 17,
     "metadata": {},
     "output_type": "execute_result"
    }
   ],
   "source": [
    "# Repeat the process for all other categories of crime, and collect likelihoods in table for easy comparison. \n",
    "props_and_crimes = make_array(make_array(0.365, 'SEX OFFENSES, FORCIBLE'), make_array(0.204, 'LARCENY/THEFT'), make_array(0.296, 'ROBBERY'), make_array(0.533, 'ASSAULT'), make_array(0.133, 'VEHICLE THEFT'), make_array(0.131, 'BURGLARY'), make_array(0.208, 'ARSON'))\n",
    "collector = make_array()\n",
    "for i in props_and_crimes:\n",
    "    collector = np.append(collector, np.count_nonzero(under_null(i.item(0), i.item(1)).column(0) <= bootstrap_prop(i.item(1)).item(1)) /10000)\n",
    "collector"
   ]
  },
  {
   "cell_type": "code",
   "execution_count": 18,
   "metadata": {},
   "outputs": [
    {
     "data": {
      "text/html": [
       "<table border=\"1\" class=\"dataframe\">\n",
       "    <thead>\n",
       "        <tr>\n",
       "            <th>Category of Crime</th> <th>P-Value</th>\n",
       "        </tr>\n",
       "    </thead>\n",
       "    <tbody>\n",
       "        <tr>\n",
       "            <td>SEX OFFENSES, FORCIBLE</td> <td>0.9998 </td>\n",
       "        </tr>\n",
       "    </tbody>\n",
       "        <tr>\n",
       "            <td>LARCENY/THEFT         </td> <td>0      </td>\n",
       "        </tr>\n",
       "    </tbody>\n",
       "        <tr>\n",
       "            <td>ROBBERY               </td> <td>0.3802 </td>\n",
       "        </tr>\n",
       "    </tbody>\n",
       "        <tr>\n",
       "            <td>ASSAULT               </td> <td>0      </td>\n",
       "        </tr>\n",
       "    </tbody>\n",
       "        <tr>\n",
       "            <td>VEHICLE THEFT         </td> <td>0      </td>\n",
       "        </tr>\n",
       "    </tbody>\n",
       "        <tr>\n",
       "            <td>BURGLARY              </td> <td>1      </td>\n",
       "        </tr>\n",
       "    </tbody>\n",
       "        <tr>\n",
       "            <td>ARSON                 </td> <td>0.9784 </td>\n",
       "        </tr>\n",
       "    </tbody>\n",
       "</table>"
      ],
      "text/plain": [
       "Category of Crime      | P-Value\n",
       "SEX OFFENSES, FORCIBLE | 0.9998\n",
       "LARCENY/THEFT          | 0\n",
       "ROBBERY                | 0.3802\n",
       "ASSAULT                | 0\n",
       "VEHICLE THEFT          | 0\n",
       "BURGLARY               | 1\n",
       "ARSON                  | 0.9784"
      ]
     },
     "execution_count": 18,
     "metadata": {},
     "output_type": "execute_result"
    }
   ],
   "source": [
    "# Final table. We reject the null for larceny/theft, assault, and vehicle theft, and accept the null for the rest. \n",
    "Table().with_column('Category of Crime', make_array('SEX OFFENSES, FORCIBLE', 'LARCENY/THEFT', 'ROBBERY', 'ASSAULT', 'VEHICLE THEFT', 'BURGLARY', 'ARSON'), 'P-Value', collector) "
   ]
  },
  {
   "cell_type": "markdown",
   "metadata": {},
   "source": [
    "Conclusion: \n",
    "Hypothesis testing says with 95% confidence that criminals commiting larceny/theft, assault, or vehicle theft are definitively less likely to be arrested in SF than nationwide. Hypothesis testing for other types of crime is inconclusive, because the distribution of the true proportion of arrested criminals for those types of crimes in SF overlaps significantly with the bootstrapped distribution of the nationwide arrest rates, meaning we cannot reject the null. Thus, our answer is that for larceny/theft, assault, and vehicle theft, criminals are less likely to be arrested in SF than nationwide. Other types of crime are inconclusive according to our model. "
   ]
  }
 ],
 "metadata": {
  "kernelspec": {
   "display_name": "Python 3",
   "language": "python",
   "name": "python3"
  },
  "language_info": {
   "codemirror_mode": {
    "name": "ipython",
    "version": 3
   },
   "file_extension": ".py",
   "mimetype": "text/x-python",
   "name": "python",
   "nbconvert_exporter": "python",
   "pygments_lexer": "ipython3",
   "version": "3.6.7"
  }
 },
 "nbformat": 4,
 "nbformat_minor": 2
}
