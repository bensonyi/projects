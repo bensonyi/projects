{
 "cells": [
  {
   "cell_type": "markdown",
   "metadata": {},
   "source": [
    "Question 2 - Project 3\n",
    "\n",
    "1) On average, when looking at violent crime and construction data from 2015, do vicinities (+- 2 blocks from a location) with net new construction have more or less crime than an average vicinity in San Francisco? and if so by, how much?\n",
    "\n",
    "Motivation/Notes:\n",
    "\n",
    "This is the second question utilizing datasets for construction and violent crimes in 2015. To complete the analysis to answer question two, we use the \"datasceince\" library. The goal here is to ultimately figure out if areas with new construction in 2015 had more crime or not utilizing the given coordinates of every violent crime committed in San Francsico. The real challenge in solving this question is defining, categorizing and manipulating the data so it can be compared side by side at scale. We decided to define an area with new construction as a vicinity which is +-2 blocks from a lattitude and location point (a corner on a block in SF). Each vicinity was about 16 (4 Wide x 4 Long) square blocks. The code mainly deals with manipulating the Violence data set but to answer the question we need external data points regarding the city of San Francisco which can be found below."
   ]
  },
  {
   "cell_type": "code",
   "execution_count": 48,
   "metadata": {},
   "outputs": [
    {
     "data": {
      "text/html": [
       "<table border=\"1\" class=\"dataframe\">\n",
       "    <thead>\n",
       "        <tr>\n",
       "            <th>Category</th> <th>Date</th> <th>Address</th> <th>X</th> <th>Y</th>\n",
       "        </tr>\n",
       "    </thead>\n",
       "    <tbody>\n",
       "        <tr>\n",
       "            <td>ASSAULT </td> <td>1/1/2014</td> <td>VANNESS AV / GOLDEN GATE AV</td> <td>-122.42 </td> <td>37.781 </td>\n",
       "        </tr>\n",
       "        <tr>\n",
       "            <td>ASSAULT </td> <td>1/1/2014</td> <td>16TH ST / BRYANT ST        </td> <td>-122.41 </td> <td>37.7656</td>\n",
       "        </tr>\n",
       "        <tr>\n",
       "            <td>ROBBERY </td> <td>1/1/2014</td> <td>EVANS AV / NEWHALL ST      </td> <td>-122.387</td> <td>37.742 </td>\n",
       "        </tr>\n",
       "    </tbody>\n",
       "</table>\n",
       "<p>... (30300 rows omitted)</p>"
      ],
      "text/plain": [
       "<IPython.core.display.HTML object>"
      ]
     },
     "metadata": {},
     "output_type": "display_data"
    },
    {
     "data": {
      "text/html": [
       "<table border=\"1\" class=\"dataframe\">\n",
       "    <thead>\n",
       "        <tr>\n",
       "            <th>ST_NUM</th> <th>ST_NAME</th> <th>ST_TYPE</th> <th>Address</th> <th> UNITS </th> <th> NETUNITS </th> <th> AFFHSG </th> <th>DESCRIPT</th> <th>EXISTUSE</th> <th>PROPUSE</th> <th>X</th> <th>Y</th>\n",
       "        </tr>\n",
       "    </thead>\n",
       "    <tbody>\n",
       "        <tr>\n",
       "            <td>1400  </td> <td>MISSION </td> <td>ST     </td> <td>1400 MISSION ST</td> <td>190    </td> <td>190       </td> <td>167     </td> <td>ERECT 15-STORY, 190 DWELLING UNITS, NO BASEMENT, TYPE 1, ...</td> <td>nan     </td> <td>APARTMENTS</td> <td>-122.416</td> <td>37.7753</td>\n",
       "        </tr>\n",
       "        <tr>\n",
       "            <td>255   </td> <td>BROADWAY</td> <td>*      </td> <td>255 BROADWAY * </td> <td>75     </td> <td>75        </td> <td>74      </td> <td>TO ERECT 6 STORY, 75 UNITS RESIDENTIAL, MERCANTILE, ASSE ...</td> <td>nan     </td> <td>APARTMENTS</td> <td>-122.402</td> <td>37.7983</td>\n",
       "        </tr>\n",
       "        <tr>\n",
       "            <td>1100  </td> <td>OCEAN   </td> <td>AV     </td> <td>1100 OCEAN AV  </td> <td>71     </td> <td>71        </td> <td>70      </td> <td>ERECT 5-STORY NEW BUILDING                                  </td> <td>nan     </td> <td>APARTMENTS</td> <td>-122.454</td> <td>37.7256</td>\n",
       "        </tr>\n",
       "    </tbody>\n",
       "</table>\n",
       "<p>... (21 rows omitted)</p>"
      ],
      "text/plain": [
       "<IPython.core.display.HTML object>"
      ]
     },
     "metadata": {},
     "output_type": "display_data"
    }
   ],
   "source": [
    "from datascience import *\n",
    "import numpy as np\n",
    "import matplotlib\n",
    "%matplotlib inline\n",
    "import matplotlib.pyplot as plt\n",
    "plt.style.use('fivethirtyeight')\n",
    "\n",
    "# First, here we maniuplate the data to only show 2015 data so that we can align crimes with our new construction data \n",
    "violence = Table.read_table(\"violence.csv\")\n",
    "violence2015 = violence.where(\"Date\", are.containing(\"2015\"))\n",
    "data2015 = Table.read_table(\"2015_datasf.csv\")\n",
    "# Samples of both tables\n",
    "violence.show(3)\n",
    "data2015.show(3)"
   ]
  },
  {
   "cell_type": "code",
   "execution_count": 36,
   "metadata": {},
   "outputs": [
    {
     "data": {
      "text/plain": [
       "26"
      ]
     },
     "execution_count": 36,
     "metadata": {},
     "output_type": "execute_result"
    }
   ],
   "source": [
    "# +- 2 blocks are considered to be the vicinity of once space for an address and the unit used for our analysis \n",
    "area2blocks = 0.00135\n",
    "# The code below will let us see how much violence occurs in the vicinities of neighborhoods with net new \n",
    "# construction. 0 is the first construction site in the table \"data2015\". \n",
    "violence2015.where('X', are.between(data2015.column('X')[0]- area2blocks, data2015.column('X')[0]+ area2blocks)).where('Y', are.between(data2015.column('Y')[0]- area2blocks, data2015.column('Y')[0]+ area2blocks)).num_rows"
   ]
  },
  {
   "cell_type": "code",
   "execution_count": 39,
   "metadata": {},
   "outputs": [],
   "source": [
    "# We repeat the calculations of seeing how much violence crime there is in these 25 new construction vicinities. \n",
    "# The result outputs an array which will later become a column on the construction data set.  \n",
    "crimelst = make_array()\n",
    "for i in range(0, 24):\n",
    "    count = violence2015.where('X', are.between(data2015.column('X')[i]- area2blocks, data2015.column('X')[i]+ area2blocks)).where('Y', are.between(data2015.column('Y')[i]- area2blocks, data2015.column('Y')[i]+ area2blocks)).num_rows\n",
    "    crimelst = np.append(crimelst, count)\n"
   ]
  },
  {
   "cell_type": "code",
   "execution_count": 40,
   "metadata": {},
   "outputs": [
    {
     "data": {
      "text/html": [
       "<table border=\"1\" class=\"dataframe\">\n",
       "    <thead>\n",
       "        <tr>\n",
       "            <th>ST_NUM</th> <th>ST_NAME</th> <th>ST_TYPE</th> <th>Address</th> <th> UNITS </th> <th> NETUNITS </th> <th> AFFHSG </th> <th>DESCRIPT</th> <th>EXISTUSE</th> <th>PROPUSE</th> <th>X</th> <th>Y</th> <th>Number of Crimes</th>\n",
       "        </tr>\n",
       "    </thead>\n",
       "    <tbody>\n",
       "        <tr>\n",
       "            <td>527   </td> <td>STEVENSON  </td> <td>ST     </td> <td>527 STEVENSON ST  </td> <td>60     </td> <td>60        </td> <td>9       </td> <td>INTERIOR RENOVATION & REMODELING OF COMMERCIAL BUILDING  ...</td> <td>OFFICE      </td> <td>APARTMENTS</td> <td>-122.41 </td> <td>37.781 </td> <td>161             </td>\n",
       "        </tr>\n",
       "        <tr>\n",
       "            <td>1875  </td> <td>MISSION    </td> <td>ST     </td> <td>1875 MISSION ST   </td> <td>39     </td> <td>39        </td> <td>6       </td> <td>ADAPTIVE RE-USE OF (E) 4 STORY CONCRETE FRAMED BUILDING. ...</td> <td>STORAGE SHED</td> <td>APARTMENTS</td> <td>-122.419</td> <td>37.7671</td> <td>64              </td>\n",
       "        </tr>\n",
       "        <tr>\n",
       "            <td>35    </td> <td>DOLORES    </td> <td>ST     </td> <td>35 DOLORES ST     </td> <td>37     </td> <td>37        </td> <td>4       </td> <td>WORKING IN COMMON AREA. INSTALL A NEW ADDRESSABLE FIRE A ...</td> <td>VACANT LOT  </td> <td>APARTMENTS</td> <td>-122.426</td> <td>37.7686</td> <td>47              </td>\n",
       "        </tr>\n",
       "        <tr>\n",
       "            <td>1321  </td> <td>MISSION    </td> <td>ST     </td> <td>1321 MISSION ST   </td> <td>160    </td> <td>160       </td> <td> -      </td> <td>TO ERECT 160 UNITS, 11 STORIES WITH BASEMENT MIX USE BUI ...</td> <td>nan         </td> <td>APARTMENTS</td> <td>-122.415</td> <td>37.7759</td> <td>43              </td>\n",
       "        </tr>\n",
       "        <tr>\n",
       "            <td>2558  </td> <td>MISSION    </td> <td>ST     </td> <td>2558 MISSION ST   </td> <td>114    </td> <td>114       </td> <td> -      </td> <td>TO ERECT 8 STORIES, 1 BASEMENT, 114 UNITS RESIDENTIAL, R ...</td> <td>nan         </td> <td>APARTMENTS</td> <td>-122.419</td> <td>37.756 </td> <td>40              </td>\n",
       "        </tr>\n",
       "        <tr>\n",
       "            <td>252   </td> <td>09TH       </td> <td>ST     </td> <td>252 09TH ST       </td> <td>15     </td> <td>15        </td> <td> -      </td> <td>TO ERECT 5 STORIES, 15 UNITS MULTI-FAMILY RESIDENTIAL WI ...</td> <td>nan         </td> <td>APARTMENTS</td> <td>-122.413</td> <td>37.7741</td> <td>30              </td>\n",
       "        </tr>\n",
       "        <tr>\n",
       "            <td>100   </td> <td>VAN NESS   </td> <td>AV     </td> <td>100 VAN NESS AV   </td> <td>399    </td> <td>399       </td> <td>48      </td> <td>CONVERT (E) OFFICE BUILDING INT 399 RESIDENTIAL APARTMEN ...</td> <td>OFFICE      </td> <td>APARTMENTS</td> <td>-122.419</td> <td>37.7767</td> <td>29              </td>\n",
       "        </tr>\n",
       "        <tr>\n",
       "            <td>1400  </td> <td>MISSION    </td> <td>ST     </td> <td>1400 MISSION ST   </td> <td>190    </td> <td>190       </td> <td>167     </td> <td>ERECT 15-STORY, 190 DWELLING UNITS, NO BASEMENT, TYPE 1, ...</td> <td>nan         </td> <td>APARTMENTS</td> <td>-122.416</td> <td>37.7753</td> <td>26              </td>\n",
       "        </tr>\n",
       "        <tr>\n",
       "            <td>45    </td> <td>LANSING    </td> <td>ST     </td> <td>45 LANSING ST     </td> <td>320    </td> <td>320       </td> <td> -      </td> <td>TO ERECT 39 STORIES, 320 UNITS RESIDENTIAL CONDOMINIUMS  ...</td> <td>nan         </td> <td>APARTMENTS</td> <td>-122.394</td> <td>37.7859</td> <td>21              </td>\n",
       "        </tr>\n",
       "        <tr>\n",
       "            <td>400   </td> <td>GROVE      </td> <td>ST     </td> <td>400 GROVE ST      </td> <td>34     </td> <td>34        </td> <td>4       </td> <td>ERECT 5-STORY MULTIFAMILY RESIDENTIAL, RETAIL, PARKING N ...</td> <td>nan         </td> <td>APARTMENTS</td> <td>-122.424</td> <td>37.778 </td> <td>21              </td>\n",
       "        </tr>\n",
       "        <tr>\n",
       "            <td>280   </td> <td>BEALE      </td> <td>ST     </td> <td>280 BEALE ST      </td> <td>70     </td> <td>70        </td> <td>69      </td> <td>nan                                                         </td> <td>VACANT LOT  </td> <td>APARTMENTS</td> <td>-122.394</td> <td>37.7887</td> <td>15              </td>\n",
       "        </tr>\n",
       "        <tr>\n",
       "            <td>255   </td> <td>BROADWAY   </td> <td>*      </td> <td>255 BROADWAY *    </td> <td>75     </td> <td>75        </td> <td>74      </td> <td>TO ERECT 6 STORY, 75 UNITS RESIDENTIAL, MERCANTILE, ASSE ...</td> <td>nan         </td> <td>APARTMENTS</td> <td>-122.402</td> <td>37.7983</td> <td>15              </td>\n",
       "        </tr>\n",
       "        <tr>\n",
       "            <td>899   </td> <td>VALENCIA   </td> <td>ST     </td> <td>899 VALENCIA ST   </td> <td>18     </td> <td>18        </td> <td> -      </td> <td>TO ERECT 5 STORIES, 1 BASEMENT, MIX USE COMMERCIAL/18 DW ...</td> <td>nan         </td> <td>APARTMENTS</td> <td>-122.421</td> <td>37.7588</td> <td>11              </td>\n",
       "        </tr>\n",
       "        <tr>\n",
       "            <td>318   </td> <td>MAIN       </td> <td>ST     </td> <td>318 MAIN ST       </td> <td>59     </td> <td>59        </td> <td> -      </td> <td>nan                                                         </td> <td>nan         </td> <td>nan       </td> <td>-122.392</td> <td>37.7887</td> <td>11              </td>\n",
       "        </tr>\n",
       "        <tr>\n",
       "            <td>333   </td> <td>BEALE      </td> <td>ST     </td> <td>333 BEALE ST      </td> <td>80     </td> <td>80        </td> <td> -      </td> <td>nan                                                         </td> <td>nan         </td> <td>nan       </td> <td>-122.392</td> <td>37.7887</td> <td>11              </td>\n",
       "        </tr>\n",
       "        <tr>\n",
       "            <td>338   </td> <td>MAIN       </td> <td>ST     </td> <td>338 MAIN ST       </td> <td>245    </td> <td>245       </td> <td> -      </td> <td>PLAZA C - ERECT 8 STORIES, 80 DWELLING UNITS, 4 BASEMENT ...</td> <td>nan         </td> <td>APARTMENTS</td> <td>-122.392</td> <td>37.7887</td> <td>11              </td>\n",
       "        </tr>\n",
       "        <tr>\n",
       "            <td>870   </td> <td>HARRISON   </td> <td>ST     </td> <td>870 HARRISON ST   </td> <td>26     </td> <td>26        </td> <td>4       </td> <td>TO ERECT A NEW 6 STORY 26 DWELLING UNITS W/ COMMERCIAL BLDG.</td> <td>nan         </td> <td>APARTMENTS</td> <td>-122.401</td> <td>37.7797</td> <td>8               </td>\n",
       "        </tr>\n",
       "        <tr>\n",
       "            <td>1200  </td> <td>04TH       </td> <td>ST     </td> <td>1200 04TH ST      </td> <td>133    </td> <td>133       </td> <td> -      </td> <td>REVISION TO THE APPROVED & ISSUED S-3 ARCHITECTURAL FOR  ...</td> <td>nan         </td> <td>APARTMENTS</td> <td>-122.392</td> <td>37.7725</td> <td>7               </td>\n",
       "        </tr>\n",
       "        <tr>\n",
       "            <td>310   </td> <td>CAROLINA   </td> <td>ST     </td> <td>310 CAROLINA ST   </td> <td>21     </td> <td>21        </td> <td> -      </td> <td>TO ERECT 4 STORIES, NO BASEMENT, 21 UNITS RESIDENTIAL &  ...</td> <td>nan         </td> <td>APARTMENTS</td> <td>-122.401</td> <td>37.7646</td> <td>5               </td>\n",
       "        </tr>\n",
       "        <tr>\n",
       "            <td>718   </td> <td>LONG BRIDGE</td> <td>ST     </td> <td>718 LONG BRIDGE ST</td> <td>267    </td> <td>267       </td> <td> -      </td> <td>ERECT 16 STORIES & 263 DWELLING APARTMENT & PARKING         </td> <td>nan         </td> <td>nan       </td> <td>-122.394</td> <td>37.7718</td> <td>0               </td>\n",
       "        </tr>\n",
       "        <tr>\n",
       "            <td>690   </td> <td>LONG BRIDGE</td> <td>ST     </td> <td>690 LONG BRIDGE ST</td> <td>273    </td> <td>273       </td> <td> -      </td> <td>TO ERECT 16 STORIES, 273 UNITS APARTMENTS & PARKING BUIL ...</td> <td>nan         </td> <td>APARTMENTS</td> <td>-122.393</td> <td>37.7729</td> <td>0               </td>\n",
       "        </tr>\n",
       "        <tr>\n",
       "            <td>201   </td> <td>DONAHUE    </td> <td>ST     </td> <td>201 DONAHUE ST    </td> <td>25     </td> <td>25        </td> <td>3       </td> <td>nan                                                         </td> <td>nan         </td> <td>APARTMENTS</td> <td>-122.37 </td> <td>37.7284</td> <td>0               </td>\n",
       "        </tr>\n",
       "        <tr>\n",
       "            <td>101   </td> <td>DONAHUE    </td> <td>ST     </td> <td>101 DONAHUE ST    </td> <td>63     </td> <td>63        </td> <td>6       </td> <td>TO ERECT 4 STORIES, 63 RESIDENTIAL CONDOMINIUM UNITS.(VA ...</td> <td>nan         </td> <td>APARTMENTS</td> <td>-122.37 </td> <td>37.729 </td> <td>0               </td>\n",
       "        </tr>\n",
       "        <tr>\n",
       "            <td>1100  </td> <td>OCEAN      </td> <td>AV     </td> <td>1100 OCEAN AV     </td> <td>71     </td> <td>71        </td> <td>70      </td> <td>ERECT 5-STORY NEW BUILDING                                  </td> <td>nan         </td> <td>APARTMENTS</td> <td>-122.454</td> <td>37.7256</td> <td>0               </td>\n",
       "        </tr>\n",
       "    </tbody>\n",
       "</table>"
      ],
      "text/plain": [
       "<IPython.core.display.HTML object>"
      ]
     },
     "metadata": {},
     "output_type": "display_data"
    }
   ],
   "source": [
    "# Here, we use .with_column to add another column called \"Number of Crimes\" to create a new table using \n",
    "# the 2015 construction data and combining it with counts from the violent crime data\n",
    "data2015crime = data2015.with_column(\"Number of Crimes\", crimelst)\n",
    "data2015crime.sort(\"Number of Crimes\", descending=True).show()"
   ]
  },
  {
   "cell_type": "code",
   "execution_count": 41,
   "metadata": {},
   "outputs": [
    {
     "data": {
      "text/plain": [
       "24.0"
      ]
     },
     "execution_count": 41,
     "metadata": {},
     "output_type": "execute_result"
    }
   ],
   "source": [
    "# Using our new table \"data2015crime\" we can take the average of the new column to determine \n",
    "Newconstructioncrime = np.average(data2015crime.column(\"Number of Crimes\"))\n",
    "Newconstructioncrime "
   ]
  },
  {
   "cell_type": "code",
   "execution_count": 42,
   "metadata": {},
   "outputs": [
    {
     "data": {
      "text/plain": [
       "4687.0"
      ]
     },
     "execution_count": 42,
     "metadata": {},
     "output_type": "execute_result"
    }
   ],
   "source": [
    "# Here we convert square miles into blocks considering a rough average is typically 10 blocks for one mile\n",
    "SFsquaremiles = 46.87 # Area of SF in Square Miles \n",
    "Mileblocks = 10 # Number of blocks in one mile \n",
    "SFblocks = SFsquaremiles * Mileblocks * Mileblocks # Number of Square Miles * Blocks in a mile^2 \n",
    "SFblocks"
   ]
  },
  {
   "cell_type": "code",
   "execution_count": 43,
   "metadata": {},
   "outputs": [
    {
     "data": {
      "text/plain": [
       "43.92745892895242"
      ]
     },
     "execution_count": 43,
     "metadata": {},
     "output_type": "execute_result"
    }
   ],
   "source": [
    "# Here we convert the number of blocks in SF to the number of vicinities which is +- 2 blocks\n",
    "Areavicinity2blocks = 16 # +- 2 blocks from a location is equivalent to 4 x 4 blocks\n",
    "Numberofvicinity = SFblocks / Areavicinity2blocks\n",
    "Numberofvicinity # Number of vicinities in SF\n",
    "# Here we take the total of amount of violent crimes and divide it by the number of the vicinities to \n",
    "# calculate the average crime that exists in the average SF vicinity.\n",
    "Avgcrimevicinity = violence2015.num_rows / Numberofvicinity\n",
    "Avgcrimevicinity"
   ]
  },
  {
   "cell_type": "code",
   "execution_count": 44,
   "metadata": {},
   "outputs": [
    {
     "data": {
      "text/plain": [
       "19.92745892895242"
      ]
     },
     "execution_count": 44,
     "metadata": {},
     "output_type": "execute_result"
    }
   ],
   "source": [
    "# On average, when looking at data from 2015, do vicinities (+- 2 blocks from a location) with net new construction\n",
    "# have less crime? and if so by, how much?\n",
    "Differencecrime = Avgcrimevicinity - Newconstructioncrime\n",
    "Differencecrime \n",
    "# Difference in the number of crimes in the average vicinity v. a vicinity with new construction."
   ]
  },
  {
   "cell_type": "code",
   "execution_count": 75,
   "metadata": {},
   "outputs": [
    {
     "data": {
      "text/plain": [
       "54.63552999689152"
      ]
     },
     "execution_count": 75,
     "metadata": {},
     "output_type": "execute_result"
    }
   ],
   "source": [
    "1 / (Avgcrimevicinity / Newconstructioncrime) * 100"
   ]
  },
  {
   "cell_type": "markdown",
   "metadata": {},
   "source": [
    "Conclusion: In 2015, there was less crime in vicinities (+- 2 blocks) with new contruction compared to the average SF vicinity, to the tune of nearly 20 fewer crimes (a 46% decrease). \n",
    "\n",
    "Motivation/Notes\n",
    "\n",
    "This is the second question utilizing datasets for construction and violent crimes in 2015. To complete the analysis to answer question two, we use the \"datasceince\" library. The goal here is to ultimately figure out if areas with new construction in 2015 had more crime or not utilizing the given coordinates of every violent crime committed in San Francsico. The real challenge in solving this question is defining, categorizing and manipulating the data so it can be compared side by side at scale. We decided to define an area with new construction as a vicinity which is +-2 blocks from a lattitude and location point (a corner on a block in SF). Each vicinity was about 16 (4 Wide x 4 Long) square blocks.\n",
    "\n",
    "The code mainly deals with manipulating the Violence data set but to answer the question we need external data points regarding the city of San Francisco. We first found the total area of San Francisco and then we converted that into blocks and then into vicinities. We then divided the vicinities by the total violent crimes in 2015 to get a good idea of how much crime occured on average on a typical vicinity in SF.\n",
    "\n",
    "We then needed to figure out how much crime occured in vicinities with new construction in 2015 so that we could compare the two. We used violent crimes data that had latitudes and longitudes and aggegated/counted the ones that fit into the +- 2 block which is latitude(x) +- 0.00135 and longitude(y) +- 0.00135 from the given latitudes and longitudes in the construction data set. We then used a for loop to calculate this for each latitude and longitude in the net new construction data table. This count was then placed into the construction data through a new column for easy visibility called \"Number of Crimes\". The average was then taken of the column and we were able to then subtract the average amount of crimes that happened on a typical vicinity in SF by the average amount of crimes that happened in a construction vicinity. We found that there was less crime in new construction vicinities by a significant amount. We can't neccesarily prove that the construction is the cause of it but through this historical data we can see that vicinities with new construction tended to have less crime."
   ]
  }
 ],
 "metadata": {
  "kernelspec": {
   "display_name": "Python 3",
   "language": "python",
   "name": "python3"
  },
  "language_info": {
   "codemirror_mode": {
    "name": "ipython",
    "version": 3
   },
   "file_extension": ".py",
   "mimetype": "text/x-python",
   "name": "python",
   "nbconvert_exporter": "python",
   "pygments_lexer": "ipython3",
   "version": "3.6.7"
  }
 },
 "nbformat": 4,
 "nbformat_minor": 2
}
